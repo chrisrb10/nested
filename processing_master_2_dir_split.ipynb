{
 "cells": [
  {
   "cell_type": "code",
   "execution_count": 16,
   "metadata": {},
   "outputs": [
    {
     "data": {
      "text/plain": [
       "'./data_catalogues/processing_2018-03-13_15-26-49'"
      ]
     },
     "execution_count": 16,
     "metadata": {},
     "output_type": "execute_result"
    }
   ],
   "source": [
    "\n",
    "# import libraries and nested_utilities\n",
    "import nested_utilities as nutil\n",
    "import os\n",
    "import shutil\n",
    "import pandas as pd\n",
    "import numpy as np\n",
    "\n",
    "#\n",
    "# create a timestamped directory for this processing path\n",
    "out_dir = os.path.join('./data_catalogues/processing_'+nutil.timestamp())\n",
    "os.mkdir(out_dir)\n",
    "out_dir"
   ]
  },
  {
   "cell_type": "markdown",
   "metadata": {},
   "source": [
    "### 7. SPLITTING TEST & TRAIN DATA"
   ]
  },
  {
   "cell_type": "code",
   "execution_count": 17,
   "metadata": {},
   "outputs": [],
   "source": [
    "# remove existing dirs if exist\n",
    "#shutil.rmtree('./data/model_data/')\n",
    "#shutil.rmtree('./data/test_data/')\n",
    "#shutil.rmtree('./data/splitting_data/')\n"
   ]
  },
  {
   "cell_type": "code",
   "execution_count": 18,
   "metadata": {},
   "outputs": [
    {
     "data": {
      "text/plain": [
       "'./data/splitting_data/'"
      ]
     },
     "execution_count": 18,
     "metadata": {},
     "output_type": "execute_result"
    }
   ],
   "source": [
    "# copy base_data to 'model_data'\n",
    "shutil.copytree('./data/base_data/', './data/splitting_data/')"
   ]
  },
  {
   "cell_type": "code",
   "execution_count": 19,
   "metadata": {},
   "outputs": [],
   "source": [
    "# delete 'exclude' directory from '/model_data'\n",
    "shutil.rmtree('./data/splitting_data/exclude/')\n",
    "shutil.rmtree('./data/splitting_data/uncertain/')"
   ]
  },
  {
   "cell_type": "code",
   "execution_count": 20,
   "metadata": {},
   "outputs": [],
   "source": [
    "def create_test_dirs(source, destination):\n",
    "    \"\"\"\n",
    "    Creates directories for test data\n",
    "    Sub-directory structure (classes) in source is replicated\n",
    "    in test directory\n",
    "\n",
    "    args:\n",
    "    source - path to data source directory (str)\n",
    "    destination - path to destination directory (str)\n",
    "    \"\"\"\n",
    "    # defines train and validation directory names & paths\n",
    "    test_dir = 'test_data'\n",
    "    test_path = os.path.join(destination, test_dir)\n",
    "\n",
    "    # creates destination directory (if not exist)\n",
    "    if not os.path.exists(test_path):\n",
    "        os.mkdir(test_path)\n",
    "\n",
    "    # walks through source subdirectories, and creates copy\n",
    "    # in training and validation directories\n",
    "    for dirpath, dirs, files in os.walk(source):\n",
    "            for subdir in dirs:\n",
    "                newpath_test = os.path.join(test_path, subdir)\n",
    "                #print(newpath_test)\n",
    "                if not os.path.exists(newpath_test):\n",
    "                    os.mkdir(newpath_test)"
   ]
  },
  {
   "cell_type": "code",
   "execution_count": 21,
   "metadata": {},
   "outputs": [],
   "source": [
    "create_test_dirs('./data/splitting_data/', './data/')"
   ]
  },
  {
   "cell_type": "code",
   "execution_count": 22,
   "metadata": {},
   "outputs": [],
   "source": [
    "def data_model_test_split(source, destination, test_split=0.25, filetype='.jpg'):\n",
    "    \"\"\"\n",
    "    Walks through files in directory, and randomly moves a proportion to\n",
    "    test set.\n",
    "    Moves file to relevant test dir as appropriate\n",
    "    \n",
    "    args:\n",
    "    source - source directory path (str)\n",
    "    destination - destination directory path (str)\n",
    "    test_split - test proportion in range 0-1 (default=0.25)\n",
    "    \"\"\"\n",
    "    # defines paths to destination test directories\n",
    "    test_path = destination\n",
    "    \n",
    "    # setsup file counters\n",
    "    file_count_m = 0\n",
    "    file_count_test = 0\n",
    "    file_count_model = 0\n",
    "    \n",
    "    #loops through files in source\n",
    "    for dirpath, dirs, files in os.walk(source):\n",
    "            for file_ in files:\n",
    "                # decodes filename, and checks if it is desired type\n",
    "                filename = os.fsdecode(file_)\n",
    "                if filename.endswith(filetype):\n",
    "                    file_count_m += 1\n",
    "                    # creates path for file as 'source' \n",
    "                    filepath_source = os.path.join(dirpath, file_)\n",
    "                    subdir = dirpath.split('/')[-1:][0]   # collects subdir(class) name as str\n",
    "                    # randomly allocates to test or model set based on random number\n",
    "                    if np.random.rand(1) <= test_split:\n",
    "                        # test sample - defines path for file as destination, and moves file\n",
    "                        file_count_test += 1\n",
    "                        filepath_dest = os.path.join(test_path, subdir, file_)\n",
    "                        #print(filepath_dest)\n",
    "                        shutil.move(filepath_source, filepath_dest)\n",
    "                    else:\n",
    "                        # training sample - does nothing\n",
    "                        file_count_model += 1\n",
    "\n",
    "                \n",
    "    print('{} files found: {} allocated to test and {} to modelling'.format(file_count_m, file_count_test, file_count_model))"
   ]
  },
  {
   "cell_type": "code",
   "execution_count": 23,
   "metadata": {},
   "outputs": [
    {
     "name": "stdout",
     "output_type": "stream",
     "text": [
      "20611 files found: 5229 allocated to test and 15382 to modelling\n"
     ]
    }
   ],
   "source": [
    "data_model_test_split('./data/splitting_data/', './data/test_data/')"
   ]
  },
  {
   "cell_type": "markdown",
   "metadata": {},
   "source": [
    "### 8. Creating training and validation directories, and splitting model_data between them"
   ]
  },
  {
   "cell_type": "code",
   "execution_count": 24,
   "metadata": {},
   "outputs": [],
   "source": [
    "def create_train_and_val_dirs(source, destination):\n",
    "    \"\"\"\n",
    "    Creates training and validation directories for train/val split files\n",
    "    Sub-directory structure (classes) in source is replicated\n",
    "    in both training and validation directories\n",
    "    \n",
    "    args:\n",
    "    source - path to data source directory (str)\n",
    "    destination - path to destination directory (str)\n",
    "    \"\"\"\n",
    "    # defines train and validation directory names & paths\n",
    "    train_dir = 'training_dir'\n",
    "    val_dir = 'validation_dir'\n",
    "    train_path = os.path.join(destination, train_dir)\n",
    "    val_path = os.path.join(destination, val_dir)\n",
    "    \n",
    "    # creates destination directory (if not exist)\n",
    "    if not os.path.exists(destination):\n",
    "        os.mkdir(destination)\n",
    "    \n",
    "    # creates training and validation directories (if not exist)\n",
    "    if not os.path.exists(train_path):\n",
    "        os.mkdir(train_path)\n",
    "    if not os.path.exists(val_path):\n",
    "        os.mkdir(val_path)    \n",
    "    \n",
    "    # walks through source subdirectories, and creates copy\n",
    "    # in training and validation directories\n",
    "    for dirpath, dirs, files in os.walk(source):\n",
    "            for subdir in dirs:\n",
    "                newpath_t = os.path.join(train_path, subdir)\n",
    "                newpath_v = os.path.join(val_path, subdir)\n",
    "                if not os.path.exists(newpath_t):\n",
    "                    os.mkdir(newpath_t)\n",
    "                if not os.path.exists(newpath_v):\n",
    "                    os.mkdir(newpath_v)"
   ]
  },
  {
   "cell_type": "code",
   "execution_count": 25,
   "metadata": {},
   "outputs": [],
   "source": [
    "create_train_and_val_dirs('./data/splitting_data/','./data/model_data/')"
   ]
  },
  {
   "cell_type": "code",
   "execution_count": 26,
   "metadata": {},
   "outputs": [],
   "source": [
    "def data_train_val_split(source, destination, train_dir='training_dir',\n",
    "                         val_dir = 'validation_dir',\n",
    "                         filetype='.jpg', val_split=0.3):\n",
    "    \"\"\"\n",
    "    Walks through files in directory, and randomly assigns & copies to\n",
    "    training or validation set.\n",
    "    Copies file to destination /train or /val as appropriate\n",
    "    \n",
    "    args:\n",
    "    source - source directory path (str)\n",
    "    destination - destination directory path (str)\n",
    "    train_dir - training directory name in destination (default='training_dir')\n",
    "    val_dir - val directory name in destination (default='training_dir')\n",
    "    filetype - file extension of filetypes to consider (default='.jpg')\n",
    "    val_split - validation proportion in range 0-1 (default=0.3)\n",
    "    \"\"\"\n",
    "    # defines paths to destination train and val directories\n",
    "    dest_train_path = os.path.join(destination, train_dir)\n",
    "    dest_val_path = os.path.join(destination, val_dir)\n",
    "    # setsup file counters\n",
    "    file_count_m = 0\n",
    "    file_count_t = 0\n",
    "    file_count_v = 0\n",
    "    \n",
    "    #loops through files in source\n",
    "    for dirpath, dirs, files in os.walk(source):\n",
    "            for file_ in files:\n",
    "                # decodes filename, and checks if it is desired type\n",
    "                filename = os.fsdecode(file_)\n",
    "                if filename.endswith(filetype):\n",
    "                    file_count_m += 1\n",
    "                    # creates path for file as 'source' \n",
    "                    filepath_source = os.path.join(dirpath, file_)\n",
    "                    subdir = dirpath.split('/')[-1:][0]   # collects subdir(class) name as str\n",
    "                    # randomly allocates to train or val based on val_split proportion\n",
    "                    if np.random.rand(1) < val_split:\n",
    "                        # validation sample - defines path for file as destination, and copies file\n",
    "                        file_count_v += 1\n",
    "                        filepath_dest = os.path.join(dest_val_path, subdir, file_)\n",
    "                        #print('\\nValidation sample: {}\\nTarget path: {}'.format(filepath_source, filepath_dest))\n",
    "                        shutil.move(filepath_source, filepath_dest)\n",
    "                    else:\n",
    "                        # training sample - defines path for file as destination, and copies file\n",
    "                        file_count_t += 1\n",
    "                        filepath_dest = os.path.join(dest_train_path, subdir, file_)\n",
    "                        #print('\\nTraining sample: {}\\nTarget path: {}'.format(filepath_source, filepath_dest))\n",
    "                        shutil.move(filepath_source, filepath_dest)\n",
    "                \n",
    "    print('{} files copied: {} training and {} validation'.format(file_count_m, file_count_t, file_count_v))"
   ]
  },
  {
   "cell_type": "code",
   "execution_count": 27,
   "metadata": {},
   "outputs": [
    {
     "name": "stdout",
     "output_type": "stream",
     "text": [
      "15382 files copied: 10821 training and 4561 validation\n"
     ]
    }
   ],
   "source": [
    "data_train_val_split('./data/splitting_data/','./data/model_data/')"
   ]
  },
  {
   "cell_type": "code",
   "execution_count": 28,
   "metadata": {},
   "outputs": [],
   "source": [
    "#remove splitting dir\n",
    "shutil.rmtree('./data/splitting_data/')"
   ]
  },
  {
   "cell_type": "code",
   "execution_count": null,
   "metadata": {},
   "outputs": [],
   "source": []
  },
  {
   "cell_type": "code",
   "execution_count": null,
   "metadata": {},
   "outputs": [],
   "source": []
  },
  {
   "cell_type": "code",
   "execution_count": null,
   "metadata": {},
   "outputs": [],
   "source": []
  },
  {
   "cell_type": "code",
   "execution_count": null,
   "metadata": {},
   "outputs": [],
   "source": []
  }
 ],
 "metadata": {
  "kernelspec": {
   "display_name": "Python [default]",
   "language": "python",
   "name": "python3"
  },
  "language_info": {
   "codemirror_mode": {
    "name": "ipython",
    "version": 3
   },
   "file_extension": ".py",
   "mimetype": "text/x-python",
   "name": "python",
   "nbconvert_exporter": "python",
   "pygments_lexer": "ipython3",
   "version": "3.6.0"
  }
 },
 "nbformat": 4,
 "nbformat_minor": 2
}
